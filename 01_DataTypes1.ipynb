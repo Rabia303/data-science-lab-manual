{
 "cells": [
  {
   "cell_type": "markdown",
   "id": "69a380fb",
   "metadata": {},
   "source": [
    "# Data types and Variables\n"
   ]
  },
  {
   "cell_type": "markdown",
   "id": "f7a1c308",
   "metadata": {},
   "source": [
    "**Using variables of different types and functions**\n",
    "Exercise 1\n",
    "The cell below contains a function. Functions are named sets of instructions that do one particular thing, often creating a new set of data but sometimes just setting something up.\n",
    "\n",
    "A function starts with the keyword def (short for define or definition). All instructions below the definition are indented and this indicates that they are part of that function. A function runs when its name is used outside the function (here it is not indented). The indentation is important, note where the code is and isn't indented.\n",
    "\n",
    "create a variable called name and assign it a value (any name)\n",
    "print the message “Hello” name\n",
    "change the value of name and run the code again to get a new message"
   ]
  },
  {
   "cell_type": "code",
   "execution_count": null,
   "id": "b850466e",
   "metadata": {},
   "outputs": [],
   "source": [
    "def function():\n",
    "    name: 'ahmed'\n",
    "    print('Hello', name)\n",
    "\n",
    "function()\n",
    "\n",
    "# Output: Hello ahmed\n",
    "name:'ali'\n",
    "print('Hello', name)\n",
    "# Output: Hello ali"
   ]
  },
  {
   "cell_type": "markdown",
   "id": "c74bb195",
   "metadata": {},
   "source": [
    "**Exercise 2**\n",
    "create two variables num1 and num2 and assign them each a whole number\n",
    "create a third variable total which will store the sum of num1 + num2\n",
    "print the message num1, \"+\", num2, \"=\" ,total.\n",
    "Change the value of one of the numbers and run the code again to get new messages and a new total."
   ]
  },
  {
   "cell_type": "code",
   "execution_count": null,
   "id": "b920c3a6",
   "metadata": {},
   "outputs": [],
   "source": [
    "def show_total():\n",
    "    num1 = 5\n",
    "    num2 = 7\n",
    "    total = num1 + num2\n",
    "    print(num1, \"+\", num2, \"=\", total)\n",
    "\n",
    "show_total()\n",
    "\n",
    "# Change a number\n",
    "def show_total():\n",
    "    num1 = 10\n",
    "    num2 = 3\n",
    "    total = num1 + num2\n",
    "    print(num1, \"+\", num2, \"=\", total)\n",
    "\n",
    "show_total()\n"
   ]
  },
  {
   "cell_type": "markdown",
   "id": "a942edaa",
   "metadata": {},
   "source": [
    "**Exercise 3 - variables of different types**\n",
    "create a variable called name and assign it the value \"Billy\"\n",
    "create a variable called age and assign it the value 18\n",
    "print a message \"Hello name you are age years old\"\n",
    "Test input:\n",
    "Billy\n",
    "18\n",
    "\n",
    "Expected output:\n",
    "Hello Billy you are 18 years old"
   ]
  },
  {
   "cell_type": "code",
   "execution_count": null,
   "id": "ac7922d9",
   "metadata": {},
   "outputs": [],
   "source": [
    "def show_info():\n",
    "    age:18\n",
    "    name:'billy'\n",
    "    print('hello', name, 'you are', age, 'years old')\n",
    "show_info()"
   ]
  },
  {
   "cell_type": "markdown",
   "id": "1d3209f4",
   "metadata": {
    "vscode": {
     "languageId": "plaintext"
    }
   },
   "source": [
    "Exercise 4 - float variables (and writing your own function)\n",
    "\n",
    "Write a function called show_price() which will:\n",
    "\n",
    "create a variable called product and assign the value \"Chocolate Bar\"\n",
    "create a variable called cost and assign the value 1.39\n",
    "print the message product, \"costs\", \"£\", cost\n",
    "Expected output:\n",
    "Chocolate Bar costs £ 1.39"
   ]
  },
  {
   "cell_type": "code",
   "execution_count": null,
   "id": "b9b4a00f",
   "metadata": {},
   "outputs": [],
   "source": [
    "def show_price():\n",
    "    product = \"Chocolate Bar\"\n",
    "    cost = 1.39\n",
    "    print(product, \"costs\", \"£\", cost)\n",
    "\n",
    "# Call the function to see the output\n",
    "show_price()"
   ]
  },
  {
   "cell_type": "markdown",
   "id": "ed97eea1",
   "metadata": {},
   "source": [
    "\n",
    "Exercise 5 - concatenating strings\n",
    "Write a function called show_full_name() which will:\n",
    "\n",
    "create variable called name and assign it the value \"Monty\"\n",
    "create a variable called surname and assign it the value \"Python\"\n",
    "create a variable called full_name and assign it the value name + \" \" + surname\n",
    "print the full_name\n",
    "Expected output:\n",
    "Monty Python"
   ]
  },
  {
   "cell_type": "code",
   "execution_count": null,
   "id": "9ef14f3a",
   "metadata": {},
   "outputs": [],
   "source": [
    "def full_name():\n",
    "    name:'monty'\n",
    "    surname:'python'\n",
    "    full_name = name + ' ' + surname\n",
    "    print('Hello', full_name)\n",
    "full_name()"
   ]
  }
 ],
 "metadata": {
  "kernelspec": {
   "display_name": "Python 3",
   "language": "python",
   "name": "python3"
  },
  "language_info": {
   "name": "python",
   "version": "3.12.0"
  }
 },
 "nbformat": 4,
 "nbformat_minor": 5
}
