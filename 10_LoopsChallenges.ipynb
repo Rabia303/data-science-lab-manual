{
 "cells": [
  {
   "cell_type": "markdown",
   "id": "33865360",
   "metadata": {},
   "source": [
    "---\n",
    "### ***Challenge 1 - Sum of Random Numbers***\n",
    "\n",
    "**Task:**  \n",
    "Write a function called `random_generator()` where Python generates random numbers between **1 and 100** until the number **1** is generated.\n",
    "\n",
    "**Instructions:**\n",
    "\n",
    "- Use `randint(1, 100)` from the `random` module to generate random numbers.\n",
    "- Keep a **running total** by adding each generated number.\n",
    "- Stop the loop when the number **1** is generated.\n",
    "- Print:\n",
    "  - The **total sum** of all generated numbers.\n",
    "  - The **final generated number** (which should be `1`) to confirm that the loop stopped correctly.\n",
    "\n",
    "**Example Generated Input (by computer):**\n",
    "```\n",
    "10\n",
    "78\n",
    "6\n",
    "42\n",
    "56\n",
    "81\n",
    "15\n",
    "1\n",
    "```\n",
    "\n",
    "**Expected Output:**\n",
    "```\n",
    "289\n",
    "1\n",
    "```\n",
    "> 💡 *Tip:* Don't forget to `import random` and use `random.randint(1, 100)` inside your function.\n",
    "```"
   ]
  },
  {
   "cell_type": "code",
   "execution_count": null,
   "id": "fcf7a1af",
   "metadata": {},
   "outputs": [],
   "source": [
    "def random_generator():\n",
    "    "
   ]
  },
  {
   "cell_type": "markdown",
   "metadata": {},
   "source": []
  }
 ],
 "metadata": {
  "language_info": {
   "name": "python"
  }
 },
 "nbformat": 4,
 "nbformat_minor": 5
}
